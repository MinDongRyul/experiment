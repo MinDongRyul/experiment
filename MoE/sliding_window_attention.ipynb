{
 "cells": [
  {
   "cell_type": "code",
   "execution_count": 10,
   "metadata": {},
   "outputs": [
    {
     "data": {
      "text/plain": [
       "[{'안녕하세요.'},\n",
       " {'저는'},\n",
       " {'오늘'},\n",
       " {'서울'},\n",
       " {'에'},\n",
       " {'왔어요.'},\n",
       " {'앞으로'},\n",
       " {'잘'},\n",
       " {'부탁드립니다.'}]"
      ]
     },
     "execution_count": 10,
     "metadata": {},
     "output_type": "execute_result"
    }
   ],
   "source": [
    "# create a list of tuple with the token and the time-step\n",
    "print_order = ['안녕하세요.', '저는', '오늘', '서울', '에', '왔어요.', '앞으로', '잘', '부탁드립니다.']\n",
    "sequence = [{print_order[i]} for i in range(len(print_order))]\n",
    "sequence"
   ]
  },
  {
   "cell_type": "code",
   "execution_count": 11,
   "metadata": {},
   "outputs": [],
   "source": [
    "sliding_winsow_size = 3\n",
    "\n",
    "def sliding_window_attention(seq: list[set[str]], w: int):\n",
    "    seq_len = len(seq)\n",
    "    attetion_scores: list[list[set]] = [[None for _ in range(seq_len)] for _ in range(seq_len)]\n",
    "    for i, q_token_set in enumerate(seq):\n",
    "        for j, k_token_set in enumerate(seq):\n",
    "            # The upper tiangle is all None\n",
    "            if j > i:\n",
    "                continue\n",
    "            if i - j >= w:\n",
    "                continue\n",
    "\n",
    "            attention = set()\n",
    "            # Add all tokens from q_tokens to attention_result\n",
    "            attention.update(q_token_set)\n",
    "            # Add all tokens from k_tokens to attention_result\n",
    "            attention.update(k_token_set)\n",
    "\n",
    "            attetion_scores[i][j] = attention\n",
    "    return attetion_scores\n",
    "\n",
    "def multiple_by_v(attention_scores: list[list[set]], v_sequence: list[set[str]]) -> list[set[str]]:\n",
    "    seq_len = len(v_sequence)\n",
    "    result = [set() for _ in range(seq_len)]\n",
    "    for i in range(seq_len):\n",
    "        for j in range(seq_len):\n",
    "            attention = attention_scores[i][j]\n",
    "            v = v_sequence[j]\n",
    "            r = result[i]\n",
    "            # Add all the tokens in the attention (if not None) to r\n",
    "            if attention is not None:\n",
    "                # Add all the tokens in v to r\n",
    "                r.update(v)\n",
    "                r.update(attention)\n",
    "    return result\n",
    "\n",
    "def print_attention(attention_scores: list[list[set[str]]]):\n",
    "    for i, row in enumerate(attention_scores):\n",
    "        for j, attention in enumerate(row):\n",
    "            if attention is None:\n",
    "                print('None', end='\\t')\n",
    "            else:\n",
    "                print(f'{sorted(attention, key=lambda x: print_order.index(x))}', end='\\t')\n",
    "        print()\n",
    "\n",
    "def print_sequence(seq: list[set[str]]):\n",
    "    for i, token_set in enumerate(seq):\n",
    "        print(f'{i}: {sorted(token_set, key=lambda x: print_order.index(x))}')\n",
    "\n",
    "def print_layer(input: list[set[str]], layer_num: int) -> list[set[str]]:\n",
    "    print(f'Layer {layer_num} input:')\n",
    "    print_sequence(input)\n",
    "    attention_scores = sliding_window_attention(input, sliding_winsow_size)\n",
    "    print()\n",
    "    print(f'Layer {layer_num} attention_scores:')\n",
    "    print_attention(attention_scores)\n",
    "    output = multiple_by_v(attention_scores, input)\n",
    "    print()\n",
    "    print(f'Layer {layer_num} output:')\n",
    "    print_sequence(output)\n",
    "    return output"
   ]
  },
  {
   "cell_type": "code",
   "execution_count": 12,
   "metadata": {},
   "outputs": [
    {
     "name": "stdout",
     "output_type": "stream",
     "text": [
      "Layer 1 input:\n",
      "0: ['안녕하세요.']\n",
      "1: ['저는']\n",
      "2: ['오늘']\n",
      "3: ['서울']\n",
      "4: ['에']\n",
      "5: ['왔어요.']\n",
      "6: ['앞으로']\n",
      "7: ['잘']\n",
      "8: ['부탁드립니다.']\n",
      "\n",
      "Layer 1 attention_scores:\n",
      "['안녕하세요.']\tNone\tNone\tNone\tNone\tNone\tNone\tNone\tNone\t\n",
      "['안녕하세요.', '저는']\t['저는']\tNone\tNone\tNone\tNone\tNone\tNone\tNone\t\n",
      "['안녕하세요.', '오늘']\t['저는', '오늘']\t['오늘']\tNone\tNone\tNone\tNone\tNone\tNone\t\n",
      "None\t['저는', '서울']\t['오늘', '서울']\t['서울']\tNone\tNone\tNone\tNone\tNone\t\n",
      "None\tNone\t['오늘', '에']\t['서울', '에']\t['에']\tNone\tNone\tNone\tNone\t\n",
      "None\tNone\tNone\t['서울', '왔어요.']\t['에', '왔어요.']\t['왔어요.']\tNone\tNone\tNone\t\n",
      "None\tNone\tNone\tNone\t['에', '앞으로']\t['왔어요.', '앞으로']\t['앞으로']\tNone\tNone\t\n",
      "None\tNone\tNone\tNone\tNone\t['왔어요.', '잘']\t['앞으로', '잘']\t['잘']\tNone\t\n",
      "None\tNone\tNone\tNone\tNone\tNone\t['앞으로', '부탁드립니다.']\t['잘', '부탁드립니다.']\t['부탁드립니다.']\t\n",
      "\n",
      "Layer 1 output:\n",
      "0: ['안녕하세요.']\n",
      "1: ['안녕하세요.', '저는']\n",
      "2: ['안녕하세요.', '저는', '오늘']\n",
      "3: ['저는', '오늘', '서울']\n",
      "4: ['오늘', '서울', '에']\n",
      "5: ['서울', '에', '왔어요.']\n",
      "6: ['에', '왔어요.', '앞으로']\n",
      "7: ['왔어요.', '앞으로', '잘']\n",
      "8: ['앞으로', '잘', '부탁드립니다.']\n"
     ]
    }
   ],
   "source": [
    "# Layer 1\n",
    "output_layer_1 = print_layer(sequence, 1)"
   ]
  },
  {
   "cell_type": "code",
   "execution_count": 13,
   "metadata": {},
   "outputs": [
    {
     "name": "stdout",
     "output_type": "stream",
     "text": [
      "Layer 2 input:\n",
      "0: ['안녕하세요.']\n",
      "1: ['안녕하세요.', '저는']\n",
      "2: ['안녕하세요.', '저는', '오늘']\n",
      "3: ['저는', '오늘', '서울']\n",
      "4: ['오늘', '서울', '에']\n",
      "5: ['서울', '에', '왔어요.']\n",
      "6: ['에', '왔어요.', '앞으로']\n",
      "7: ['왔어요.', '앞으로', '잘']\n",
      "8: ['앞으로', '잘', '부탁드립니다.']\n",
      "\n",
      "Layer 2 attention_scores:\n",
      "['안녕하세요.']\tNone\tNone\tNone\tNone\tNone\tNone\tNone\tNone\t\n",
      "['안녕하세요.', '저는']\t['안녕하세요.', '저는']\tNone\tNone\tNone\tNone\tNone\tNone\tNone\t\n",
      "['안녕하세요.', '저는', '오늘']\t['안녕하세요.', '저는', '오늘']\t['안녕하세요.', '저는', '오늘']\tNone\tNone\tNone\tNone\tNone\tNone\t\n",
      "None\t['안녕하세요.', '저는', '오늘', '서울']\t['안녕하세요.', '저는', '오늘', '서울']\t['저는', '오늘', '서울']\tNone\tNone\tNone\tNone\tNone\t\n",
      "None\tNone\t['안녕하세요.', '저는', '오늘', '서울', '에']\t['저는', '오늘', '서울', '에']\t['오늘', '서울', '에']\tNone\tNone\tNone\tNone\t\n",
      "None\tNone\tNone\t['저는', '오늘', '서울', '에', '왔어요.']\t['오늘', '서울', '에', '왔어요.']\t['서울', '에', '왔어요.']\tNone\tNone\tNone\t\n",
      "None\tNone\tNone\tNone\t['오늘', '서울', '에', '왔어요.', '앞으로']\t['서울', '에', '왔어요.', '앞으로']\t['에', '왔어요.', '앞으로']\tNone\tNone\t\n",
      "None\tNone\tNone\tNone\tNone\t['서울', '에', '왔어요.', '앞으로', '잘']\t['에', '왔어요.', '앞으로', '잘']\t['왔어요.', '앞으로', '잘']\tNone\t\n",
      "None\tNone\tNone\tNone\tNone\tNone\t['에', '왔어요.', '앞으로', '잘', '부탁드립니다.']\t['왔어요.', '앞으로', '잘', '부탁드립니다.']\t['앞으로', '잘', '부탁드립니다.']\t\n",
      "\n",
      "Layer 2 output:\n",
      "0: ['안녕하세요.']\n",
      "1: ['안녕하세요.', '저는']\n",
      "2: ['안녕하세요.', '저는', '오늘']\n",
      "3: ['안녕하세요.', '저는', '오늘', '서울']\n",
      "4: ['안녕하세요.', '저는', '오늘', '서울', '에']\n",
      "5: ['저는', '오늘', '서울', '에', '왔어요.']\n",
      "6: ['오늘', '서울', '에', '왔어요.', '앞으로']\n",
      "7: ['서울', '에', '왔어요.', '앞으로', '잘']\n",
      "8: ['에', '왔어요.', '앞으로', '잘', '부탁드립니다.']\n"
     ]
    }
   ],
   "source": [
    "# Layer 2\n",
    "output_layer_2 = print_layer(output_layer_1, 2)"
   ]
  },
  {
   "cell_type": "code",
   "execution_count": 14,
   "metadata": {},
   "outputs": [
    {
     "name": "stdout",
     "output_type": "stream",
     "text": [
      "Layer 3 input:\n",
      "0: ['안녕하세요.']\n",
      "1: ['안녕하세요.', '저는']\n",
      "2: ['안녕하세요.', '저는', '오늘']\n",
      "3: ['안녕하세요.', '저는', '오늘', '서울']\n",
      "4: ['안녕하세요.', '저는', '오늘', '서울', '에']\n",
      "5: ['저는', '오늘', '서울', '에', '왔어요.']\n",
      "6: ['오늘', '서울', '에', '왔어요.', '앞으로']\n",
      "7: ['서울', '에', '왔어요.', '앞으로', '잘']\n",
      "8: ['에', '왔어요.', '앞으로', '잘', '부탁드립니다.']\n",
      "\n",
      "Layer 3 attention_scores:\n",
      "['안녕하세요.']\tNone\tNone\tNone\tNone\tNone\tNone\tNone\tNone\t\n",
      "['안녕하세요.', '저는']\t['안녕하세요.', '저는']\tNone\tNone\tNone\tNone\tNone\tNone\tNone\t\n",
      "['안녕하세요.', '저는', '오늘']\t['안녕하세요.', '저는', '오늘']\t['안녕하세요.', '저는', '오늘']\tNone\tNone\tNone\tNone\tNone\tNone\t\n",
      "None\t['안녕하세요.', '저는', '오늘', '서울']\t['안녕하세요.', '저는', '오늘', '서울']\t['안녕하세요.', '저는', '오늘', '서울']\tNone\tNone\tNone\tNone\tNone\t\n",
      "None\tNone\t['안녕하세요.', '저는', '오늘', '서울', '에']\t['안녕하세요.', '저는', '오늘', '서울', '에']\t['안녕하세요.', '저는', '오늘', '서울', '에']\tNone\tNone\tNone\tNone\t\n",
      "None\tNone\tNone\t['안녕하세요.', '저는', '오늘', '서울', '에', '왔어요.']\t['안녕하세요.', '저는', '오늘', '서울', '에', '왔어요.']\t['저는', '오늘', '서울', '에', '왔어요.']\tNone\tNone\tNone\t\n",
      "None\tNone\tNone\tNone\t['안녕하세요.', '저는', '오늘', '서울', '에', '왔어요.', '앞으로']\t['저는', '오늘', '서울', '에', '왔어요.', '앞으로']\t['오늘', '서울', '에', '왔어요.', '앞으로']\tNone\tNone\t\n",
      "None\tNone\tNone\tNone\tNone\t['저는', '오늘', '서울', '에', '왔어요.', '앞으로', '잘']\t['오늘', '서울', '에', '왔어요.', '앞으로', '잘']\t['서울', '에', '왔어요.', '앞으로', '잘']\tNone\t\n",
      "None\tNone\tNone\tNone\tNone\tNone\t['오늘', '서울', '에', '왔어요.', '앞으로', '잘', '부탁드립니다.']\t['서울', '에', '왔어요.', '앞으로', '잘', '부탁드립니다.']\t['에', '왔어요.', '앞으로', '잘', '부탁드립니다.']\t\n",
      "\n",
      "Layer 3 output:\n",
      "0: ['안녕하세요.']\n",
      "1: ['안녕하세요.', '저는']\n",
      "2: ['안녕하세요.', '저는', '오늘']\n",
      "3: ['안녕하세요.', '저는', '오늘', '서울']\n",
      "4: ['안녕하세요.', '저는', '오늘', '서울', '에']\n",
      "5: ['안녕하세요.', '저는', '오늘', '서울', '에', '왔어요.']\n",
      "6: ['안녕하세요.', '저는', '오늘', '서울', '에', '왔어요.', '앞으로']\n",
      "7: ['저는', '오늘', '서울', '에', '왔어요.', '앞으로', '잘']\n",
      "8: ['오늘', '서울', '에', '왔어요.', '앞으로', '잘', '부탁드립니다.']\n"
     ]
    }
   ],
   "source": [
    "# Layer 3\n",
    "output_layer_3 = print_layer(output_layer_2, 3)"
   ]
  },
  {
   "cell_type": "code",
   "execution_count": 15,
   "metadata": {},
   "outputs": [
    {
     "name": "stdout",
     "output_type": "stream",
     "text": [
      "Layer 4 input:\n",
      "0: ['안녕하세요.']\n",
      "1: ['안녕하세요.', '저는']\n",
      "2: ['안녕하세요.', '저는', '오늘']\n",
      "3: ['안녕하세요.', '저는', '오늘', '서울']\n",
      "4: ['안녕하세요.', '저는', '오늘', '서울', '에']\n",
      "5: ['안녕하세요.', '저는', '오늘', '서울', '에', '왔어요.']\n",
      "6: ['안녕하세요.', '저는', '오늘', '서울', '에', '왔어요.', '앞으로']\n",
      "7: ['저는', '오늘', '서울', '에', '왔어요.', '앞으로', '잘']\n",
      "8: ['오늘', '서울', '에', '왔어요.', '앞으로', '잘', '부탁드립니다.']\n",
      "\n",
      "Layer 4 attention_scores:\n",
      "['안녕하세요.']\tNone\tNone\tNone\tNone\tNone\tNone\tNone\tNone\t\n",
      "['안녕하세요.', '저는']\t['안녕하세요.', '저는']\tNone\tNone\tNone\tNone\tNone\tNone\tNone\t\n",
      "['안녕하세요.', '저는', '오늘']\t['안녕하세요.', '저는', '오늘']\t['안녕하세요.', '저는', '오늘']\tNone\tNone\tNone\tNone\tNone\tNone\t\n",
      "None\t['안녕하세요.', '저는', '오늘', '서울']\t['안녕하세요.', '저는', '오늘', '서울']\t['안녕하세요.', '저는', '오늘', '서울']\tNone\tNone\tNone\tNone\tNone\t\n",
      "None\tNone\t['안녕하세요.', '저는', '오늘', '서울', '에']\t['안녕하세요.', '저는', '오늘', '서울', '에']\t['안녕하세요.', '저는', '오늘', '서울', '에']\tNone\tNone\tNone\tNone\t\n",
      "None\tNone\tNone\t['안녕하세요.', '저는', '오늘', '서울', '에', '왔어요.']\t['안녕하세요.', '저는', '오늘', '서울', '에', '왔어요.']\t['안녕하세요.', '저는', '오늘', '서울', '에', '왔어요.']\tNone\tNone\tNone\t\n",
      "None\tNone\tNone\tNone\t['안녕하세요.', '저는', '오늘', '서울', '에', '왔어요.', '앞으로']\t['안녕하세요.', '저는', '오늘', '서울', '에', '왔어요.', '앞으로']\t['안녕하세요.', '저는', '오늘', '서울', '에', '왔어요.', '앞으로']\tNone\tNone\t\n",
      "None\tNone\tNone\tNone\tNone\t['안녕하세요.', '저는', '오늘', '서울', '에', '왔어요.', '앞으로', '잘']\t['안녕하세요.', '저는', '오늘', '서울', '에', '왔어요.', '앞으로', '잘']\t['저는', '오늘', '서울', '에', '왔어요.', '앞으로', '잘']\tNone\t\n",
      "None\tNone\tNone\tNone\tNone\tNone\t['안녕하세요.', '저는', '오늘', '서울', '에', '왔어요.', '앞으로', '잘', '부탁드립니다.']\t['저는', '오늘', '서울', '에', '왔어요.', '앞으로', '잘', '부탁드립니다.']\t['오늘', '서울', '에', '왔어요.', '앞으로', '잘', '부탁드립니다.']\t\n",
      "\n",
      "Layer 4 output:\n",
      "0: ['안녕하세요.']\n",
      "1: ['안녕하세요.', '저는']\n",
      "2: ['안녕하세요.', '저는', '오늘']\n",
      "3: ['안녕하세요.', '저는', '오늘', '서울']\n",
      "4: ['안녕하세요.', '저는', '오늘', '서울', '에']\n",
      "5: ['안녕하세요.', '저는', '오늘', '서울', '에', '왔어요.']\n",
      "6: ['안녕하세요.', '저는', '오늘', '서울', '에', '왔어요.', '앞으로']\n",
      "7: ['안녕하세요.', '저는', '오늘', '서울', '에', '왔어요.', '앞으로', '잘']\n",
      "8: ['안녕하세요.', '저는', '오늘', '서울', '에', '왔어요.', '앞으로', '잘', '부탁드립니다.']\n"
     ]
    }
   ],
   "source": [
    "# Layer 4\n",
    "output_layer_4 = print_layer(output_layer_3, 4)"
   ]
  },
  {
   "cell_type": "code",
   "execution_count": 16,
   "metadata": {},
   "outputs": [
    {
     "name": "stdout",
     "output_type": "stream",
     "text": [
      "Layer 5 input:\n",
      "0: ['안녕하세요.']\n",
      "1: ['안녕하세요.', '저는']\n",
      "2: ['안녕하세요.', '저는', '오늘']\n",
      "3: ['안녕하세요.', '저는', '오늘', '서울']\n",
      "4: ['안녕하세요.', '저는', '오늘', '서울', '에']\n",
      "5: ['안녕하세요.', '저는', '오늘', '서울', '에', '왔어요.']\n",
      "6: ['안녕하세요.', '저는', '오늘', '서울', '에', '왔어요.', '앞으로']\n",
      "7: ['안녕하세요.', '저는', '오늘', '서울', '에', '왔어요.', '앞으로', '잘']\n",
      "8: ['안녕하세요.', '저는', '오늘', '서울', '에', '왔어요.', '앞으로', '잘', '부탁드립니다.']\n",
      "\n",
      "Layer 5 attention_scores:\n",
      "['안녕하세요.']\tNone\tNone\tNone\tNone\tNone\tNone\tNone\tNone\t\n",
      "['안녕하세요.', '저는']\t['안녕하세요.', '저는']\tNone\tNone\tNone\tNone\tNone\tNone\tNone\t\n",
      "['안녕하세요.', '저는', '오늘']\t['안녕하세요.', '저는', '오늘']\t['안녕하세요.', '저는', '오늘']\tNone\tNone\tNone\tNone\tNone\tNone\t\n",
      "None\t['안녕하세요.', '저는', '오늘', '서울']\t['안녕하세요.', '저는', '오늘', '서울']\t['안녕하세요.', '저는', '오늘', '서울']\tNone\tNone\tNone\tNone\tNone\t\n",
      "None\tNone\t['안녕하세요.', '저는', '오늘', '서울', '에']\t['안녕하세요.', '저는', '오늘', '서울', '에']\t['안녕하세요.', '저는', '오늘', '서울', '에']\tNone\tNone\tNone\tNone\t\n",
      "None\tNone\tNone\t['안녕하세요.', '저는', '오늘', '서울', '에', '왔어요.']\t['안녕하세요.', '저는', '오늘', '서울', '에', '왔어요.']\t['안녕하세요.', '저는', '오늘', '서울', '에', '왔어요.']\tNone\tNone\tNone\t\n",
      "None\tNone\tNone\tNone\t['안녕하세요.', '저는', '오늘', '서울', '에', '왔어요.', '앞으로']\t['안녕하세요.', '저는', '오늘', '서울', '에', '왔어요.', '앞으로']\t['안녕하세요.', '저는', '오늘', '서울', '에', '왔어요.', '앞으로']\tNone\tNone\t\n",
      "None\tNone\tNone\tNone\tNone\t['안녕하세요.', '저는', '오늘', '서울', '에', '왔어요.', '앞으로', '잘']\t['안녕하세요.', '저는', '오늘', '서울', '에', '왔어요.', '앞으로', '잘']\t['안녕하세요.', '저는', '오늘', '서울', '에', '왔어요.', '앞으로', '잘']\tNone\t\n",
      "None\tNone\tNone\tNone\tNone\tNone\t['안녕하세요.', '저는', '오늘', '서울', '에', '왔어요.', '앞으로', '잘', '부탁드립니다.']\t['안녕하세요.', '저는', '오늘', '서울', '에', '왔어요.', '앞으로', '잘', '부탁드립니다.']\t['안녕하세요.', '저는', '오늘', '서울', '에', '왔어요.', '앞으로', '잘', '부탁드립니다.']\t\n",
      "\n",
      "Layer 5 output:\n",
      "0: ['안녕하세요.']\n",
      "1: ['안녕하세요.', '저는']\n",
      "2: ['안녕하세요.', '저는', '오늘']\n",
      "3: ['안녕하세요.', '저는', '오늘', '서울']\n",
      "4: ['안녕하세요.', '저는', '오늘', '서울', '에']\n",
      "5: ['안녕하세요.', '저는', '오늘', '서울', '에', '왔어요.']\n",
      "6: ['안녕하세요.', '저는', '오늘', '서울', '에', '왔어요.', '앞으로']\n",
      "7: ['안녕하세요.', '저는', '오늘', '서울', '에', '왔어요.', '앞으로', '잘']\n",
      "8: ['안녕하세요.', '저는', '오늘', '서울', '에', '왔어요.', '앞으로', '잘', '부탁드립니다.']\n"
     ]
    }
   ],
   "source": [
    "# Layer 5\n",
    "output_layer_5 = print_layer(output_layer_4, 5)"
   ]
  },
  {
   "cell_type": "code",
   "execution_count": null,
   "metadata": {},
   "outputs": [],
   "source": []
  }
 ],
 "metadata": {
  "kernelspec": {
   "display_name": "base",
   "language": "python",
   "name": "python3"
  },
  "language_info": {
   "codemirror_mode": {
    "name": "ipython",
    "version": 3
   },
   "file_extension": ".py",
   "mimetype": "text/x-python",
   "name": "python",
   "nbconvert_exporter": "python",
   "pygments_lexer": "ipython3",
   "version": "3.11.3"
  }
 },
 "nbformat": 4,
 "nbformat_minor": 2
}
