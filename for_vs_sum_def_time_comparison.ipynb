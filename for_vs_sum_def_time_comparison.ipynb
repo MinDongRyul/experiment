{
 "cells": [
  {
   "cell_type": "code",
   "execution_count": 2,
   "id": "85e39f7b",
   "metadata": {},
   "outputs": [],
   "source": [
    "import time\n",
    "import tqdm"
   ]
  },
  {
   "cell_type": "markdown",
   "id": "b6518492",
   "metadata": {},
   "source": [
    "### environment\n",
    "\n",
    "cpu : Apple M2\n",
    "\n",
    "ram : 16GB"
   ]
  },
  {
   "cell_type": "markdown",
   "id": "b567875e",
   "metadata": {},
   "source": [
    "### 10000"
   ]
  },
  {
   "cell_type": "code",
   "execution_count": 9,
   "id": "4a3ac342",
   "metadata": {},
   "outputs": [
    {
     "name": "stdout",
     "output_type": "stream",
     "text": [
      "0.0011808872 sec\n"
     ]
    }
   ],
   "source": [
    "start = time.time()\n",
    "\n",
    "total = 0\n",
    "\n",
    "for idx in range(10**4):\n",
    "    total += 1\n",
    "\n",
    "end = time.time()\n",
    "\n",
    "print(f'{end-start:.10f} sec')"
   ]
  },
  {
   "cell_type": "code",
   "execution_count": 10,
   "id": "c4835016",
   "metadata": {},
   "outputs": [
    {
     "name": "stdout",
     "output_type": "stream",
     "text": [
      "0.0002098083 sec\n"
     ]
    }
   ],
   "source": [
    "lst = [idx for idx in range(10**4)]\n",
    "\n",
    "start = time.time()\n",
    "\n",
    "sum(lst)\n",
    "\n",
    "end = time.time()\n",
    "\n",
    "print(f'{end-start:.10f} sec')"
   ]
  },
  {
   "cell_type": "markdown",
   "id": "0315e19e",
   "metadata": {},
   "source": [
    "### 1000000"
   ]
  },
  {
   "cell_type": "code",
   "execution_count": 11,
   "id": "5d29fc24",
   "metadata": {},
   "outputs": [
    {
     "name": "stdout",
     "output_type": "stream",
     "text": [
      "0.0736808777 sec\n"
     ]
    }
   ],
   "source": [
    "start = time.time()\n",
    "\n",
    "total = 0\n",
    "\n",
    "for idx in range(10**6):\n",
    "    total += 1\n",
    "\n",
    "end = time.time()\n",
    "\n",
    "print(f'{end-start:.10f} sec')"
   ]
  },
  {
   "cell_type": "code",
   "execution_count": 12,
   "id": "37c96971",
   "metadata": {},
   "outputs": [
    {
     "name": "stdout",
     "output_type": "stream",
     "text": [
      "0.0096676350 sec\n"
     ]
    }
   ],
   "source": [
    "lst = [idx for idx in range(10**6)]\n",
    "\n",
    "start = time.time()\n",
    "\n",
    "sum(lst)\n",
    "\n",
    "end = time.time()\n",
    "\n",
    "print(f'{end-start:.10f} sec')"
   ]
  },
  {
   "cell_type": "markdown",
   "id": "b197c798",
   "metadata": {},
   "source": [
    "### 10 ** 8"
   ]
  },
  {
   "cell_type": "code",
   "execution_count": 13,
   "id": "d83408cc",
   "metadata": {},
   "outputs": [
    {
     "name": "stdout",
     "output_type": "stream",
     "text": [
      "3.7870531082 sec\n"
     ]
    }
   ],
   "source": [
    "start = time.time()\n",
    "\n",
    "total = 0\n",
    "\n",
    "for idx in range(10**8):\n",
    "    total += 1\n",
    "\n",
    "end = time.time()\n",
    "\n",
    "print(f'{end-start:.10f} sec')"
   ]
  },
  {
   "cell_type": "code",
   "execution_count": 14,
   "id": "fa69907b",
   "metadata": {},
   "outputs": [
    {
     "name": "stdout",
     "output_type": "stream",
     "text": [
      "1.5534520149 sec\n"
     ]
    }
   ],
   "source": [
    "lst = [idx for idx in range(10**8)]\n",
    "\n",
    "start = time.time()\n",
    "\n",
    "sum(lst)\n",
    "\n",
    "end = time.time()\n",
    "\n",
    "print(f'{end-start:.10f} sec')"
   ]
  },
  {
   "cell_type": "markdown",
   "id": "65bbe30b",
   "metadata": {},
   "source": [
    "### 10 ** 9"
   ]
  },
  {
   "cell_type": "code",
   "execution_count": 3,
   "id": "929d6811",
   "metadata": {},
   "outputs": [
    {
     "name": "stderr",
     "output_type": "stream",
     "text": [
      "100%|█████████████████████| 1000000000/1000000000 [01:34<00:00, 10629102.10it/s]"
     ]
    },
    {
     "name": "stdout",
     "output_type": "stream",
     "text": [
      "94.1485021114 sec\n"
     ]
    },
    {
     "name": "stderr",
     "output_type": "stream",
     "text": [
      "\n"
     ]
    }
   ],
   "source": [
    "start = time.time()\n",
    "\n",
    "total = 0\n",
    "\n",
    "for idx in tqdm.tqdm(range(10**9)):\n",
    "    total += 1\n",
    "\n",
    "end = time.time()\n",
    "\n",
    "print(f'{end-start:.10f} sec')"
   ]
  },
  {
   "cell_type": "code",
   "execution_count": 5,
   "id": "cc3eff43",
   "metadata": {},
   "outputs": [
    {
     "name": "stderr",
     "output_type": "stream",
     "text": [
      "100%|█████████████████████| 1000000000/1000000000 [01:13<00:00, 13608975.29it/s]\n"
     ]
    },
    {
     "name": "stdout",
     "output_type": "stream",
     "text": [
      "85.9668238163 sec\n"
     ]
    }
   ],
   "source": [
    "lst = [idx for idx in tqdm.tqdm(range(10**9))]\n",
    "\n",
    "start = time.time()\n",
    "\n",
    "sum(lst)\n",
    "\n",
    "end = time.time()\n",
    "\n",
    "print(f'{end-start:.10f} sec')"
   ]
  },
  {
   "cell_type": "markdown",
   "id": "36f75644",
   "metadata": {},
   "source": [
    "for문의 경우매번 total을 불러와야하기에 느린 것...?"
   ]
  },
  {
   "cell_type": "markdown",
   "id": "84352c60",
   "metadata": {},
   "source": [
    "sum()\n",
    "\n",
    "Signature: sum(iterable, /, start=0)\n",
    "\n",
    "Docstring:\n",
    "\n",
    "Return the sum of a 'start' value (default: 0) plus an iterable of numbers\n",
    "\n",
    "When the iterable is empty, return the start value.\n",
    "\n",
    "This function is intended specifically for use with numeric values and may\n",
    "\n",
    "reject non-numeric types.\n",
    "\n",
    "Type:      builtin_function_or_method"
   ]
  },
  {
   "cell_type": "code",
   "execution_count": 2,
   "id": "84e2715b",
   "metadata": {},
   "outputs": [
    {
     "data": {
      "text/plain": [
       "17"
      ]
     },
     "execution_count": 2,
     "metadata": {},
     "output_type": "execute_result"
    }
   ],
   "source": [
    "lst = [1, 2, 3, 4, 5]\n",
    "\n",
    "sum(lst, start = 2)"
   ]
  },
  {
   "cell_type": "code",
   "execution_count": 1,
   "id": "8ff1d826",
   "metadata": {},
   "outputs": [
    {
     "data": {
      "text/plain": [
       "15"
      ]
     },
     "execution_count": 1,
     "metadata": {},
     "output_type": "execute_result"
    }
   ],
   "source": [
    "lst = [1, 2, 3, 4, 5]\n",
    "\n",
    "sum(lst)"
   ]
  }
 ],
 "metadata": {
  "kernelspec": {
   "display_name": "Python 3 (ipykernel)",
   "language": "python",
   "name": "python3"
  },
  "language_info": {
   "codemirror_mode": {
    "name": "ipython",
    "version": 3
   },
   "file_extension": ".py",
   "mimetype": "text/x-python",
   "name": "python",
   "nbconvert_exporter": "python",
   "pygments_lexer": "ipython3",
   "version": "3.8.17"
  }
 },
 "nbformat": 4,
 "nbformat_minor": 5
}
