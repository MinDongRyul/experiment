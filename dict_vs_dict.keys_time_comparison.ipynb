{
 "cells": [
  {
   "cell_type": "code",
   "execution_count": 27,
   "id": "46d337cc",
   "metadata": {},
   "outputs": [],
   "source": [
    "import time"
   ]
  },
  {
   "cell_type": "markdown",
   "id": "2928c473",
   "metadata": {},
   "source": [
    "## int dict"
   ]
  },
  {
   "cell_type": "code",
   "execution_count": null,
   "id": "fb32dce8",
   "metadata": {},
   "outputs": [],
   "source": [
    "temp = {}\n",
    "\n",
    "for idx in range(10 ** 8):\n",
    "    temp[(idx+1) * 2] = (idx+1) * 2\n",
    "    \n",
    "len(temp)"
   ]
  },
  {
   "cell_type": "code",
   "execution_count": null,
   "id": "601f85e9",
   "metadata": {},
   "outputs": [],
   "source": [
    "type(temp.keys()), type(temp)"
   ]
  },
  {
   "cell_type": "code",
   "execution_count": null,
   "id": "adc16729",
   "metadata": {},
   "outputs": [],
   "source": [
    "start = time.time()\n",
    "temp.keys()\n",
    "end = time.time()\n",
    "\n",
    "print(f'dict keys : {end-start:.10f} sec')\n",
    "\n",
    "start = time.time()\n",
    "temp\n",
    "end = time.time()\n",
    "\n",
    "print(f'dict : {end-start:.10f} sec')"
   ]
  },
  {
   "cell_type": "markdown",
   "id": "ccc880c5",
   "metadata": {},
   "source": [
    "## str dict"
   ]
  },
  {
   "cell_type": "code",
   "execution_count": null,
   "id": "3c37ff21",
   "metadata": {},
   "outputs": [],
   "source": [
    "temp = {}\n",
    "\n",
    "for idx in range(10 ** 7):\n",
    "    temp[str((idx+1) * 2)] = str((idx+1) * 2)\n",
    "    \n",
    "len(temp)"
   ]
  },
  {
   "cell_type": "code",
   "execution_count": null,
   "id": "f5c75d54",
   "metadata": {},
   "outputs": [],
   "source": [
    "start = time.time()\n",
    "temp.keys()\n",
    "end = time.time()\n",
    "\n",
    "print(f'dict keys : {end-start:.10f} sec')\n",
    "\n",
    "start = time.time()\n",
    "temp\n",
    "end = time.time()\n",
    "\n",
    "print(f'dict : {end-start:.10f} sec')"
   ]
  }
 ],
 "metadata": {
  "kernelspec": {
   "display_name": "Python 3 (ipykernel)",
   "language": "python",
   "name": "python3"
  },
  "language_info": {
   "codemirror_mode": {
    "name": "ipython",
    "version": 3
   },
   "file_extension": ".py",
   "mimetype": "text/x-python",
   "name": "python",
   "nbconvert_exporter": "python",
   "pygments_lexer": "ipython3",
   "version": "3.8.17"
  }
 },
 "nbformat": 4,
 "nbformat_minor": 5
}
