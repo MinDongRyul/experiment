{
 "cells": [
  {
   "cell_type": "code",
   "execution_count": 27,
   "id": "d40a1999",
   "metadata": {},
   "outputs": [],
   "source": [
    "import time"
   ]
  },
  {
   "cell_type": "markdown",
   "id": "65b710a0",
   "metadata": {},
   "source": [
    "## int dict"
   ]
  },
  {
   "cell_type": "code",
   "execution_count": 28,
   "id": "09583a0b",
   "metadata": {},
   "outputs": [
    {
     "data": {
      "text/plain": [
       "100000000"
      ]
     },
     "execution_count": 28,
     "metadata": {},
     "output_type": "execute_result"
    }
   ],
   "source": [
    "temp = {}\n",
    "\n",
    "for idx in range(10 ** 8):\n",
    "    temp[(idx+1) * 2] = (idx+1) * 2\n",
    "    \n",
    "len(temp)"
   ]
  },
  {
   "cell_type": "code",
   "execution_count": 29,
   "id": "22454116",
   "metadata": {},
   "outputs": [
    {
     "data": {
      "text/plain": [
       "(dict_keys, dict)"
      ]
     },
     "execution_count": 29,
     "metadata": {},
     "output_type": "execute_result"
    }
   ],
   "source": [
    "type(temp.keys()), type(temp)"
   ]
  },
  {
   "cell_type": "code",
   "execution_count": 30,
   "id": "43898277",
   "metadata": {},
   "outputs": [
    {
     "name": "stdout",
     "output_type": "stream",
     "text": [
      "dict keys : 0.0000150204 sec\n",
      "dict : 0.0000109673 sec\n"
     ]
    }
   ],
   "source": [
    "start = time.time()\n",
    "temp.keys()\n",
    "end = time.time()\n",
    "\n",
    "print(f'dict keys : {end-start:.10f} sec')\n",
    "\n",
    "start = time.time()\n",
    "temp\n",
    "end = time.time()\n",
    "\n",
    "print(f'dict : {end-start:.10f} sec')"
   ]
  },
  {
   "cell_type": "markdown",
   "id": "b3b8860b",
   "metadata": {},
   "source": [
    "## str dict"
   ]
  },
  {
   "cell_type": "code",
   "execution_count": 33,
   "id": "dfdef4d5",
   "metadata": {},
   "outputs": [
    {
     "data": {
      "text/plain": [
       "100000000"
      ]
     },
     "execution_count": 33,
     "metadata": {},
     "output_type": "execute_result"
    }
   ],
   "source": [
    "temp = {}\n",
    "\n",
    "for idx in range(10 ** 8):\n",
    "    temp[str((idx+1) * 2)] = str((idx+1) * 2)\n",
    "    \n",
    "len(temp)"
   ]
  },
  {
   "cell_type": "code",
   "execution_count": 34,
   "id": "04722242",
   "metadata": {},
   "outputs": [
    {
     "name": "stdout",
     "output_type": "stream",
     "text": [
      "dict keys : 0.0000157356 sec\n",
      "dict : 0.0000140667 sec\n"
     ]
    }
   ],
   "source": [
    "start = time.time()\n",
    "temp.keys()\n",
    "end = time.time()\n",
    "\n",
    "print(f'dict keys : {end-start:.10f} sec')\n",
    "\n",
    "start = time.time()\n",
    "temp\n",
    "end = time.time()\n",
    "\n",
    "print(f'dict : {end-start:.10f} sec')"
   ]
  }
 ],
 "metadata": {
  "kernelspec": {
   "display_name": "Python 3 (ipykernel)",
   "language": "python",
   "name": "python3"
  },
  "language_info": {
   "codemirror_mode": {
    "name": "ipython",
    "version": 3
   },
   "file_extension": ".py",
   "mimetype": "text/x-python",
   "name": "python",
   "nbconvert_exporter": "python",
   "pygments_lexer": "ipython3",
   "version": "3.8.17"
  }
 },
 "nbformat": 4,
 "nbformat_minor": 5
}
