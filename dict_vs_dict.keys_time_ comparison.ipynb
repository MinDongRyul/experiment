{
 "cells": [
  {
   "cell_type": "code",
   "execution_count": 1,
   "id": "aaed6253",
   "metadata": {},
   "outputs": [],
   "source": [
    "import time"
   ]
  },
  {
   "cell_type": "markdown",
   "id": "7f820e8e",
   "metadata": {},
   "source": [
    "## int dict"
   ]
  },
  {
   "cell_type": "code",
   "execution_count": null,
   "id": "cfd27c95",
   "metadata": {},
   "outputs": [],
   "source": [
    "temp = {}\n",
    "\n",
    "for idx in range(10 ** 8):\n",
    "    temp[idx] = (idx+1) * 2\n",
    "    \n",
    "len(temp)"
   ]
  },
  {
   "cell_type": "code",
   "execution_count": null,
   "id": "562a0f8b",
   "metadata": {},
   "outputs": [],
   "source": [
    "type(temp.keys()), type(temp)"
   ]
  },
  {
   "cell_type": "code",
   "execution_count": null,
   "id": "353263d1",
   "metadata": {},
   "outputs": [],
   "source": [
    "start = time.time()\n",
    "temp.keys()\n",
    "end = time.time()\n",
    "\n",
    "print(f'dict keys : {end-start:.10f} sec')\n",
    "\n",
    "start = time.time()\n",
    "temp\n",
    "end = time.time()\n",
    "\n",
    "print(f'dict : {end-start:.10f} sec')"
   ]
  },
  {
   "cell_type": "markdown",
   "id": "3e90df56",
   "metadata": {},
   "source": [
    "## str dict"
   ]
  },
  {
   "cell_type": "code",
   "execution_count": 17,
   "id": "d02efad9",
   "metadata": {},
   "outputs": [
    {
     "data": {
      "text/plain": [
       "10000000"
      ]
     },
     "execution_count": 17,
     "metadata": {},
     "output_type": "execute_result"
    }
   ],
   "source": [
    "temp = {}\n",
    "\n",
    "for idx in range(10 ** 7):\n",
    "    temp[str(idx)] = str((idx+1) * 2)\n",
    "    \n",
    "len(temp)"
   ]
  },
  {
   "cell_type": "code",
   "execution_count": 18,
   "id": "d4e5b262",
   "metadata": {},
   "outputs": [
    {
     "name": "stdout",
     "output_type": "stream",
     "text": [
      "dict keys : 0.0000152588 sec\n",
      "dict : 0.0000171661 sec\n"
     ]
    }
   ],
   "source": [
    "start = time.time()\n",
    "temp.keys()\n",
    "end = time.time()\n",
    "\n",
    "print(f'dict keys : {end-start:.10f} sec')\n",
    "\n",
    "start = time.time()\n",
    "temp\n",
    "end = time.time()\n",
    "\n",
    "print(f'dict : {end-start:.10f} sec')"
   ]
  },
  {
   "cell_type": "code",
   "execution_count": null,
   "id": "7886067d",
   "metadata": {},
   "outputs": [],
   "source": []
  }
 ],
 "metadata": {
  "kernelspec": {
   "display_name": "Python 3 (ipykernel)",
   "language": "python",
   "name": "python3"
  },
  "language_info": {
   "codemirror_mode": {
    "name": "ipython",
    "version": 3
   },
   "file_extension": ".py",
   "mimetype": "text/x-python",
   "name": "python",
   "nbconvert_exporter": "python",
   "pygments_lexer": "ipython3",
   "version": "3.8.17"
  }
 },
 "nbformat": 4,
 "nbformat_minor": 5
}
